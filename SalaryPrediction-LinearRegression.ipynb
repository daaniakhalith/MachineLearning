{
 "cells": [
  {
   "cell_type": "code",
   "execution_count": 202,
   "id": "9c450a9b",
   "metadata": {},
   "outputs": [],
   "source": [
    "import pandas as pd\n",
    "from sklearn.model_selection import train_test_split,cross_val_score\n",
    "from sklearn.linear_model import LinearRegression\n",
    "from sklearn.metrics import r2_score,mean_squared_error\n",
    "import numpy as np\n",
    "from sklearn.linear_model import Ridge\n",
    "from sklearn.linear_model import Lasso\n",
    "import matplotlib.pyplot as plt\n",
    "from sklearn.preprocessing import LabelEncoder\n",
    "from sklearn.preprocessing import StandardScaler"
   ]
  },
  {
   "cell_type": "code",
   "execution_count": 117,
   "id": "3e50aca9",
   "metadata": {},
   "outputs": [],
   "source": [
    "data = pd.read_csv(\"Employee-salary-prediction.csv\")\n"
   ]
  },
  {
   "cell_type": "code",
   "execution_count": 118,
   "id": "96254794",
   "metadata": {},
   "outputs": [
    {
     "name": "stdout",
     "output_type": "stream",
     "text": [
      "    Age  Gender Education Level          Job Title  Years of Experience  \\\n",
      "0  32.0    Male      Bachelor's  Software Engineer                  5.0   \n",
      "1  28.0  Female        Master's       Data Analyst                  3.0   \n",
      "2  45.0    Male             PhD     Senior Manager                 15.0   \n",
      "3  36.0  Female      Bachelor's    Sales Associate                  7.0   \n",
      "4  52.0    Male        Master's           Director                 20.0   \n",
      "5  29.0    Male      Bachelor's  Marketing Analyst                  2.0   \n",
      "\n",
      "     Salary  \n",
      "0   90000.0  \n",
      "1   65000.0  \n",
      "2  150000.0  \n",
      "3   60000.0  \n",
      "4  200000.0  \n",
      "5   55000.0  \n"
     ]
    }
   ],
   "source": [
    "print(data.head(6))"
   ]
  },
  {
   "cell_type": "markdown",
   "id": "d3e2d8e2",
   "metadata": {},
   "source": [
    "# EDA"
   ]
  },
  {
   "cell_type": "code",
   "execution_count": 119,
   "id": "1b314e4e",
   "metadata": {},
   "outputs": [
    {
     "name": "stdout",
     "output_type": "stream",
     "text": [
      "Shape: (375, 6)\n"
     ]
    }
   ],
   "source": [
    "print(\"Shape:\",data.shape)"
   ]
  },
  {
   "cell_type": "code",
   "execution_count": 122,
   "id": "ddbad993",
   "metadata": {},
   "outputs": [
    {
     "name": "stdout",
     "output_type": "stream",
     "text": [
      "Null Detail\n",
      " Age                    2\n",
      "Gender                 2\n",
      "Education Level        2\n",
      "Job Title              2\n",
      "Years of Experience    2\n",
      "Salary                 2\n",
      "dtype: int64\n"
     ]
    }
   ],
   "source": [
    "print(\"Null Detail\\n\",data.isnull().sum())"
   ]
  },
  {
   "cell_type": "code",
   "execution_count": 123,
   "id": "e4907769",
   "metadata": {},
   "outputs": [
    {
     "name": "stdout",
     "output_type": "stream",
     "text": [
      "[2] Null Values Droped\n"
     ]
    }
   ],
   "source": [
    "print(data.isnull().sum().unique(),\"Null Values are getting Droped\")"
   ]
  },
  {
   "cell_type": "code",
   "execution_count": 124,
   "id": "3cbac223",
   "metadata": {},
   "outputs": [],
   "source": [
    "data.dropna(inplace=True)\n"
   ]
  },
  {
   "cell_type": "code",
   "execution_count": 125,
   "id": "45d3b415",
   "metadata": {},
   "outputs": [
    {
     "name": "stdout",
     "output_type": "stream",
     "text": [
      "Age                    49\n",
      "Gender                 49\n",
      "Education Level        49\n",
      "Job Title              49\n",
      "Years of Experience    49\n",
      "Salary                 49\n",
      "dtype: int64\n"
     ]
    }
   ],
   "source": [
    "print(data[data.duplicated()].count())"
   ]
  },
  {
   "cell_type": "code",
   "execution_count": 127,
   "id": "b7c38617",
   "metadata": {},
   "outputs": [
    {
     "name": "stdout",
     "output_type": "stream",
     "text": [
      "[49] Duplicate Values are getting Droped\n"
     ]
    }
   ],
   "source": [
    "print(data[data.duplicated()].count().unique(),\"Duplicate Values are getting Droped\")"
   ]
  },
  {
   "cell_type": "code",
   "execution_count": 128,
   "id": "16234d80",
   "metadata": {},
   "outputs": [],
   "source": [
    "data.drop_duplicates(inplace=True)"
   ]
  },
  {
   "cell_type": "code",
   "execution_count": 129,
   "id": "e30be9ad",
   "metadata": {},
   "outputs": [
    {
     "name": "stdout",
     "output_type": "stream",
     "text": [
      "<class 'pandas.core.frame.DataFrame'>\n",
      "Index: 324 entries, 0 to 371\n",
      "Data columns (total 6 columns):\n",
      " #   Column               Non-Null Count  Dtype  \n",
      "---  ------               --------------  -----  \n",
      " 0   Age                  324 non-null    float64\n",
      " 1   Gender               324 non-null    object \n",
      " 2   Education Level      324 non-null    object \n",
      " 3   Job Title            324 non-null    object \n",
      " 4   Years of Experience  324 non-null    float64\n",
      " 5   Salary               324 non-null    float64\n",
      "dtypes: float64(3), object(3)\n",
      "memory usage: 17.7+ KB\n",
      "None\n"
     ]
    }
   ],
   "source": [
    "print(data.info())"
   ]
  },
  {
   "cell_type": "markdown",
   "id": "452b25cb",
   "metadata": {},
   "source": [
    "# Univariate Analysis"
   ]
  },
  {
   "cell_type": "code",
   "execution_count": 130,
   "id": "cd7f1b6c",
   "metadata": {},
   "outputs": [
    {
     "name": "stdout",
     "output_type": "stream",
     "text": [
      "              Age  Years of Experience         Salary\n",
      "count  324.000000           324.000000     324.000000\n",
      "mean    37.382716            10.058642   99985.648148\n",
      "std      7.185844             6.650470   48652.271440\n",
      "min     23.000000             0.000000     350.000000\n",
      "25%     31.000000             4.000000   55000.000000\n",
      "50%     36.500000             9.000000   95000.000000\n",
      "75%     44.000000            16.000000  140000.000000\n",
      "max     53.000000            25.000000  250000.000000\n"
     ]
    }
   ],
   "source": [
    "print(data.describe())"
   ]
  },
  {
   "cell_type": "code",
   "execution_count": 168,
   "id": "62ecd940",
   "metadata": {},
   "outputs": [
    {
     "name": "stdout",
     "output_type": "stream",
     "text": [
      "Job Title and Counts\n",
      "\n",
      "Job Title\n",
      "Director of Operations             9\n",
      "Director of Marketing              8\n",
      "Senior Marketing Manager           8\n",
      "Senior Project Manager             7\n",
      "Senior Business Analyst            6\n",
      "                                  ..\n",
      "Business Development Manager       1\n",
      "Customer Service Representative    1\n",
      "IT Manager                         1\n",
      "Digital Marketing Manager          1\n",
      "Junior Web Developer               1\n",
      "Name: count, Length: 174, dtype: int64\n"
     ]
    }
   ],
   "source": [
    "print('Job Title and Counts\\n')\n",
    "print(data['Job Title'].value_counts())\n"
   ]
  },
  {
   "cell_type": "code",
   "execution_count": 177,
   "id": "f471e748",
   "metadata": {},
   "outputs": [
    {
     "data": {
      "image/png": "[encoded data removed]",
      "text/plain": [
       "<Figure size 640x480 with 2 Axes>"
      ]
     },
     "metadata": {},
     "output_type": "display_data"
    }
   ],
   "source": [
    "plt.subplot(1,2,1)\n",
    "plt.title(\"Histogram of Age \")\n",
    "data['Age'].plot(kind='hist')\n",
    "plt.subplot(1,2,2)\n",
    "plt.title(\"Boxplot of Age \")\n",
    "data['Age'].plot(kind='box')\n",
    "plt.show()"
   ]
  },
  {
   "cell_type": "code",
   "execution_count": 185,
   "id": "aa7b93aa",
   "metadata": {},
   "outputs": [
    {
     "data": {
      "image/png": "[encoded data removed]",
      "text/plain": [
       "<Figure size 640x480 with 2 Axes>"
      ]
     },
     "metadata": {},
     "output_type": "display_data"
    }
   ],
   "source": [
    "plt.subplot(1,2,1)\n",
    "plt.title(\"Year of Expereinces-Bar Plot\")\n",
    "data['Years of Experience'].value_counts().plot(kind='bar')\n",
    "plt.ylabel(\"count\")\n",
    "plt.subplot(1,2,2)\n",
    "plt.title(\"Year of Expereinces-Box Plot\")\n",
    "data['Years of Experience'].value_counts().plot(kind='box')\n",
    "plt.show()\n"
   ]
  },
  {
   "cell_type": "code",
   "execution_count": 154,
   "id": "e3bf7a97",
   "metadata": {},
   "outputs": [
    {
     "name": "stdout",
     "output_type": "stream",
     "text": [
      "Axes(0.125,0.11;0.775x0.77)\n"
     ]
    },
    {
     "data": {
      "image/png": "[encoded data removed]",
      "text/plain": [
       "<Figure size 640x480 with 1 Axes>"
      ]
     },
     "metadata": {},
     "output_type": "display_data"
    }
   ],
   "source": [
    "plt.title(\"Education Level-Bar Plot\")\n",
    "print(data['Education Level'].value_counts().plot(kind='bar'))\n",
    "plt.ylabel(\"Counts\")\n",
    "plt.show()"
   ]
  },
  {
   "cell_type": "markdown",
   "id": "26c7848f",
   "metadata": {},
   "source": [
    "# Bivariate Analysis"
   ]
  },
  {
   "cell_type": "code",
   "execution_count": 155,
   "id": "c785b951",
   "metadata": {},
   "outputs": [
    {
     "name": "stdout",
     "output_type": "stream",
     "text": [
      "Axes(0.125,0.11;0.775x0.77)\n"
     ]
    },
    {
     "data": {
      "image/png": "[encoded data removed]",
      "text/plain": [
       "<Figure size 640x480 with 1 Axes>"
      ]
     },
     "metadata": {},
     "output_type": "display_data"
    }
   ],
   "source": [
    "plt.title(\"Gender vs Count\")\n",
    "print(data['Gender'].value_counts().plot(kind='bar'))\n",
    "plt.ylabel(\"Counts\")\n",
    "plt.show()"
   ]
  },
  {
   "cell_type": "code",
   "execution_count": 139,
   "id": "7e416605",
   "metadata": {},
   "outputs": [
    {
     "name": "stdout",
     "output_type": "stream",
     "text": [
      "                          Age  Years of Experience    Salary\n",
      "Age                  1.000000             0.979192  0.916543\n",
      "Years of Experience  0.979192             1.000000  0.924455\n",
      "Salary               0.916543             0.924455  1.000000\n"
     ]
    }
   ],
   "source": [
    "correlation_matrix = data[['Age','Years of Experience','Salary']].corr()\n",
    "print(correlation_matrix)"
   ]
  },
  {
   "cell_type": "code",
   "execution_count": 141,
   "id": "19c7806d",
   "metadata": {},
   "outputs": [
    {
     "name": "stdout",
     "output_type": "stream",
     "text": [
      "Axes(0.125,0.11;0.62x0.77)\n"
     ]
    },
    {
     "data": {
      "image/png": "[encoded data removed]",
      "text/plain": [
       "<Figure size 640x480 with 2 Axes>"
      ]
     },
     "metadata": {},
     "output_type": "display_data"
    }
   ],
   "source": [
    "print(sns.heatmap(correlation_matrix,annot=True))"
   ]
  },
  {
   "cell_type": "markdown",
   "id": "e4a5f71e",
   "metadata": {},
   "source": [
    "# Feature Engineering"
   ]
  },
  {
   "cell_type": "markdown",
   "id": "ac7cbd8d",
   "metadata": {},
   "source": [
    "# LabelEncoding:To convert Categorical Features to Numerical Features"
   ]
  },
  {
   "cell_type": "code",
   "execution_count": 196,
   "id": "2512d58c",
   "metadata": {},
   "outputs": [],
   "source": [
    "Encoder=LabelEncoder()"
   ]
  },
  {
   "cell_type": "code",
   "execution_count": 198,
   "id": "61884d24",
   "metadata": {},
   "outputs": [],
   "source": [
    "columns=data.columns\n",
    "for i in  columns :\n",
    "    if data[i].dtype==object:\n",
    "        data[i]=Encoder.fit_transform(data[i])"
   ]
  },
  {
   "cell_type": "markdown",
   "id": "ac51a1b9",
   "metadata": {},
   "source": [
    "# Data After Encoding"
   ]
  },
  {
   "cell_type": "code",
   "execution_count": 201,
   "id": "fc2ec370",
   "metadata": {},
   "outputs": [
    {
     "name": "stdout",
     "output_type": "stream",
     "text": [
      "    Age  Gender  Education Level  Job Title  Years of Experience    Salary\n",
      "0  32.0       1                0        159                  5.0   90000.0\n",
      "1  28.0       0                1         17                  3.0   65000.0\n",
      "2  45.0       1                2        130                 15.0  150000.0\n",
      "3  36.0       0                0        101                  7.0   60000.0\n",
      "4  52.0       1                1         22                 20.0  200000.0\n"
     ]
    }
   ],
   "source": [
    "print(data.head(5))"
   ]
  },
  {
   "cell_type": "markdown",
   "id": "2f37a8aa",
   "metadata": {},
   "source": [
    "# Feature Scaling"
   ]
  },
  {
   "cell_type": "code",
   "execution_count": 206,
   "id": "ac416453",
   "metadata": {},
   "outputs": [],
   "source": [
    "scaler=StandardScaler()\n",
    "data['Age']=scaler.fit_transform(data[['Age']])\n",
    "data['Years of Experience']=scaler.fit_transform(data[['Years of Experience']])"
   ]
  },
  {
   "cell_type": "code",
   "execution_count": 211,
   "id": "8b3c4120",
   "metadata": {},
   "outputs": [
    {
     "data": {
      "text/html": [
       "<div>\n",
       "<style scoped>\n",
       "    .dataframe tbody tr th:only-of-type {\n",
       "        vertical-align: middle;\n",
       "    }\n",
       "\n",
       "    .dataframe tbody tr th {\n",
       "        vertical-align: top;\n",
       "    }\n",
       "\n",
       "    .dataframe thead th {\n",
       "        text-align: right;\n",
       "    }\n",
       "</style>\n",
       "<table border=\"1\" class=\"dataframe\">\n",
       "  <thead>\n",
       "    <tr style=\"text-align: right;\">\n",
       "      <th></th>\n",
       "      <th>Age</th>\n",
       "      <th>Gender</th>\n",
       "      <th>Education Level</th>\n",
       "      <th>Job Title</th>\n",
       "      <th>Years of Experience</th>\n",
       "      <th>Salary</th>\n",
       "    </tr>\n",
       "  </thead>\n",
       "  <tbody>\n",
       "    <tr>\n",
       "      <th>0</th>\n",
       "      <td>-0.750231</td>\n",
       "      <td>1</td>\n",
       "      <td>0</td>\n",
       "      <td>159</td>\n",
       "      <td>-0.761821</td>\n",
       "      <td>90000.0</td>\n",
       "    </tr>\n",
       "    <tr>\n",
       "      <th>1</th>\n",
       "      <td>-1.307742</td>\n",
       "      <td>0</td>\n",
       "      <td>1</td>\n",
       "      <td>17</td>\n",
       "      <td>-1.063017</td>\n",
       "      <td>65000.0</td>\n",
       "    </tr>\n",
       "    <tr>\n",
       "      <th>2</th>\n",
       "      <td>1.061680</td>\n",
       "      <td>1</td>\n",
       "      <td>2</td>\n",
       "      <td>130</td>\n",
       "      <td>0.744158</td>\n",
       "      <td>150000.0</td>\n",
       "    </tr>\n",
       "    <tr>\n",
       "      <th>3</th>\n",
       "      <td>-0.192720</td>\n",
       "      <td>0</td>\n",
       "      <td>0</td>\n",
       "      <td>101</td>\n",
       "      <td>-0.460625</td>\n",
       "      <td>60000.0</td>\n",
       "    </tr>\n",
       "    <tr>\n",
       "      <th>4</th>\n",
       "      <td>2.037324</td>\n",
       "      <td>1</td>\n",
       "      <td>1</td>\n",
       "      <td>22</td>\n",
       "      <td>1.497148</td>\n",
       "      <td>200000.0</td>\n",
       "    </tr>\n",
       "    <tr>\n",
       "      <th>...</th>\n",
       "      <td>...</td>\n",
       "      <td>...</td>\n",
       "      <td>...</td>\n",
       "      <td>...</td>\n",
       "      <td>...</td>\n",
       "      <td>...</td>\n",
       "    </tr>\n",
       "    <tr>\n",
       "      <th>348</th>\n",
       "      <td>-1.307742</td>\n",
       "      <td>0</td>\n",
       "      <td>0</td>\n",
       "      <td>68</td>\n",
       "      <td>-1.364212</td>\n",
       "      <td>35000.0</td>\n",
       "    </tr>\n",
       "    <tr>\n",
       "      <th>349</th>\n",
       "      <td>-0.192720</td>\n",
       "      <td>1</td>\n",
       "      <td>0</td>\n",
       "      <td>111</td>\n",
       "      <td>-0.310027</td>\n",
       "      <td>110000.0</td>\n",
       "    </tr>\n",
       "    <tr>\n",
       "      <th>350</th>\n",
       "      <td>0.922302</td>\n",
       "      <td>0</td>\n",
       "      <td>2</td>\n",
       "      <td>115</td>\n",
       "      <td>0.894756</td>\n",
       "      <td>160000.0</td>\n",
       "    </tr>\n",
       "    <tr>\n",
       "      <th>351</th>\n",
       "      <td>-0.889609</td>\n",
       "      <td>1</td>\n",
       "      <td>0</td>\n",
       "      <td>63</td>\n",
       "      <td>-1.063017</td>\n",
       "      <td>55000.0</td>\n",
       "    </tr>\n",
       "    <tr>\n",
       "      <th>371</th>\n",
       "      <td>0.782924</td>\n",
       "      <td>1</td>\n",
       "      <td>1</td>\n",
       "      <td>30</td>\n",
       "      <td>1.346550</td>\n",
       "      <td>170000.0</td>\n",
       "    </tr>\n",
       "  </tbody>\n",
       "</table>\n",
       "<p>324 rows × 6 columns</p>\n",
       "</div>"
      ],
      "text/plain": [
       "          Age  Gender  Education Level  Job Title  Years of Experience  \\\n",
       "0   -0.750231       1                0        159            -0.761821   \n",
       "1   -1.307742       0                1         17            -1.063017   \n",
       "2    1.061680       1                2        130             0.744158   \n",
       "3   -0.192720       0                0        101            -0.460625   \n",
       "4    2.037324       1                1         22             1.497148   \n",
       "..        ...     ...              ...        ...                  ...   \n",
       "348 -1.307742       0                0         68            -1.364212   \n",
       "349 -0.192720       1                0        111            -0.310027   \n",
       "350  0.922302       0                2        115             0.894756   \n",
       "351 -0.889609       1                0         63            -1.063017   \n",
       "371  0.782924       1                1         30             1.346550   \n",
       "\n",
       "       Salary  \n",
       "0     90000.0  \n",
       "1     65000.0  \n",
       "2    150000.0  \n",
       "3     60000.0  \n",
       "4    200000.0  \n",
       "..        ...  \n",
       "348   35000.0  \n",
       "349  110000.0  \n",
       "350  160000.0  \n",
       "351   55000.0  \n",
       "371  170000.0  \n",
       "\n",
       "[324 rows x 6 columns]"
      ]
     },
     "execution_count": 211,
     "metadata": {},
     "output_type": "execute_result"
    }
   ],
   "source": [
    "data"
   ]
  },
  {
   "cell_type": "code",
   "execution_count": 214,
   "id": "fdad6e6f",
   "metadata": {},
   "outputs": [],
   "source": [
    "X=data.drop('Salary',axis=1)\n",
    "y=data['Salary']"
   ]
  },
  {
   "cell_type": "code",
   "execution_count": 217,
   "id": "64bd3b85",
   "metadata": {},
   "outputs": [],
   "source": [
    "X_train,X_test,y_train,y_test=train_test_split(X,y,test_size=0.40,random_state=42)"
   ]
  },
  {
   "cell_type": "code",
   "execution_count": 218,
   "id": "25fa3813",
   "metadata": {},
   "outputs": [],
   "source": [
    "linear_model=LinearRegression()\n"
   ]
  },
  {
   "cell_type": "code",
   "execution_count": 219,
   "id": "f4d6ab11",
   "metadata": {},
   "outputs": [],
   "source": [
    "linear_model.fit(X_train,y_train)\n",
    "y_predict=linear_model.predict(X_test)\n"
   ]
  },
  {
   "cell_type": "code",
   "execution_count": 230,
   "id": "90cef46e",
   "metadata": {},
   "outputs": [],
   "source": [
    "prediction=pd.DataFrame({'actual':y_test,'predicted':y_predict})\n"
   ]
  },
  {
   "cell_type": "code",
   "execution_count": 231,
   "id": "e543629a",
   "metadata": {},
   "outputs": [],
   "source": [
    "prediction['error']=prediction['actual']-prediction['predicted']"
   ]
  },
  {
   "cell_type": "code",
   "execution_count": 232,
   "id": "545c7365",
   "metadata": {},
   "outputs": [
    {
     "data": {
      "text/html": [
       "<div>\n",
       "<style scoped>\n",
       "    .dataframe tbody tr th:only-of-type {\n",
       "        vertical-align: middle;\n",
       "    }\n",
       "\n",
       "    .dataframe tbody tr th {\n",
       "        vertical-align: top;\n",
       "    }\n",
       "\n",
       "    .dataframe thead th {\n",
       "        text-align: right;\n",
       "    }\n",
       "</style>\n",
       "<table border=\"1\" class=\"dataframe\">\n",
       "  <thead>\n",
       "    <tr style=\"text-align: right;\">\n",
       "      <th></th>\n",
       "      <th>actual</th>\n",
       "      <th>predicted</th>\n",
       "      <th>error</th>\n",
       "    </tr>\n",
       "  </thead>\n",
       "  <tbody>\n",
       "    <tr>\n",
       "      <th>132</th>\n",
       "      <td>100000.0</td>\n",
       "      <td>117345.419457</td>\n",
       "      <td>-17345.419457</td>\n",
       "    </tr>\n",
       "    <tr>\n",
       "      <th>108</th>\n",
       "      <td>100000.0</td>\n",
       "      <td>124674.784548</td>\n",
       "      <td>-24674.784548</td>\n",
       "    </tr>\n",
       "    <tr>\n",
       "      <th>137</th>\n",
       "      <td>50000.0</td>\n",
       "      <td>48238.738941</td>\n",
       "      <td>1761.261059</td>\n",
       "    </tr>\n",
       "    <tr>\n",
       "      <th>9</th>\n",
       "      <td>110000.0</td>\n",
       "      <td>132836.245426</td>\n",
       "      <td>-22836.245426</td>\n",
       "    </tr>\n",
       "    <tr>\n",
       "      <th>181</th>\n",
       "      <td>105000.0</td>\n",
       "      <td>108759.809316</td>\n",
       "      <td>-3759.809316</td>\n",
       "    </tr>\n",
       "    <tr>\n",
       "      <th>...</th>\n",
       "      <td>...</td>\n",
       "      <td>...</td>\n",
       "      <td>...</td>\n",
       "    </tr>\n",
       "    <tr>\n",
       "      <th>69</th>\n",
       "      <td>150000.0</td>\n",
       "      <td>158271.191939</td>\n",
       "      <td>-8271.191939</td>\n",
       "    </tr>\n",
       "    <tr>\n",
       "      <th>97</th>\n",
       "      <td>35000.0</td>\n",
       "      <td>37734.780862</td>\n",
       "      <td>-2734.780862</td>\n",
       "    </tr>\n",
       "    <tr>\n",
       "      <th>163</th>\n",
       "      <td>80000.0</td>\n",
       "      <td>80512.418495</td>\n",
       "      <td>-512.418495</td>\n",
       "    </tr>\n",
       "    <tr>\n",
       "      <th>68</th>\n",
       "      <td>90000.0</td>\n",
       "      <td>95116.047397</td>\n",
       "      <td>-5116.047397</td>\n",
       "    </tr>\n",
       "    <tr>\n",
       "      <th>23</th>\n",
       "      <td>60000.0</td>\n",
       "      <td>79063.448054</td>\n",
       "      <td>-19063.448054</td>\n",
       "    </tr>\n",
       "  </tbody>\n",
       "</table>\n",
       "<p>130 rows × 3 columns</p>\n",
       "</div>"
      ],
      "text/plain": [
       "       actual      predicted         error\n",
       "132  100000.0  117345.419457 -17345.419457\n",
       "108  100000.0  124674.784548 -24674.784548\n",
       "137   50000.0   48238.738941   1761.261059\n",
       "9    110000.0  132836.245426 -22836.245426\n",
       "181  105000.0  108759.809316  -3759.809316\n",
       "..        ...            ...           ...\n",
       "69   150000.0  158271.191939  -8271.191939\n",
       "97    35000.0   37734.780862  -2734.780862\n",
       "163   80000.0   80512.418495   -512.418495\n",
       "68    90000.0   95116.047397  -5116.047397\n",
       "23    60000.0   79063.448054 -19063.448054\n",
       "\n",
       "[130 rows x 3 columns]"
      ]
     },
     "execution_count": 232,
     "metadata": {},
     "output_type": "execute_result"
    }
   ],
   "source": [
    "prediction"
   ]
  },
  {
   "cell_type": "code",
   "execution_count": 233,
   "id": "d97067bd",
   "metadata": {},
   "outputs": [
    {
     "name": "stdout",
     "output_type": "stream",
     "text": [
      "0.877354077961905\n"
     ]
    }
   ],
   "source": [
    "print(r2_score(y_test,y_predict))"
   ]
  },
  {
   "cell_type": "code",
   "execution_count": 235,
   "id": "14f3eb17",
   "metadata": {},
   "outputs": [
    {
     "data": {
      "text/plain": [
       "array([2.18511937e+04, 8.55691687e+03, 1.78523266e+04, 2.01289690e+01,\n",
       "       1.57597189e+04])"
      ]
     },
     "execution_count": 235,
     "metadata": {},
     "output_type": "execute_result"
    }
   ],
   "source": [
    "linear_model.coef_"
   ]
  },
  {
   "cell_type": "code",
   "execution_count": 236,
   "id": "245fabf6",
   "metadata": {},
   "outputs": [
    {
     "data": {
      "text/plain": [
       "83814.52820343128"
      ]
     },
     "execution_count": 236,
     "metadata": {},
     "output_type": "execute_result"
    }
   ],
   "source": [
    "linear_model.intercept_"
   ]
  },
  {
   "cell_type": "code",
   "execution_count": null,
   "id": "26d08b0c",
   "metadata": {},
   "outputs": [],
   "source": []
  }
 ],
 "metadata": {
  "kernelspec": {
   "display_name": "Python 3 (ipykernel)",
   "language": "python",
   "name": "python3"
  },
  "language_info": {
   "codemirror_mode": {
    "name": "ipython",
    "version": 3
   },
   "file_extension": ".py",
   "mimetype": "text/x-python",
   "name": "python",
   "nbconvert_exporter": "python",
   "pygments_lexer": "ipython3",
   "version": "3.11.5"
  }
 },
 "nbformat": 4,
 "nbformat_minor": 5
}
